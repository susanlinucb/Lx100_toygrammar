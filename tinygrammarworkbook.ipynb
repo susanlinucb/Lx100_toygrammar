{
 "cells": [
  {
   "cell_type": "markdown",
   "id": "powered-wagon",
   "metadata": {},
   "source": [
    "Import a couple packages:\n",
    "- `random` for making random selections from the lexicon and the grammar's rewrite rules\n",
    "- `pandas` for easy handling of the lexicon"
   ]
  },
  {
   "cell_type": "code",
   "execution_count": 1,
   "id": "experienced-savings",
   "metadata": {},
   "outputs": [],
   "source": [
    "import random\n",
    "import pandas as pd"
   ]
  },
  {
   "cell_type": "markdown",
   "id": "particular-turkish",
   "metadata": {},
   "source": [
    "First, read in the lexicon. We could have put this in the notebook alone, but (especially if the lexicon got quite large), it seems better to save it in another file."
   ]
  },
  {
   "cell_type": "code",
   "execution_count": 2,
   "id": "commercial-huntington",
   "metadata": {},
   "outputs": [
    {
     "data": {
      "text/html": [
       "<div>\n",
       "<style scoped>\n",
       "    .dataframe tbody tr th:only-of-type {\n",
       "        vertical-align: middle;\n",
       "    }\n",
       "\n",
       "    .dataframe tbody tr th {\n",
       "        vertical-align: top;\n",
       "    }\n",
       "\n",
       "    .dataframe thead th {\n",
       "        text-align: right;\n",
       "    }\n",
       "</style>\n",
       "<table border=\"1\" class=\"dataframe\">\n",
       "  <thead>\n",
       "    <tr style=\"text-align: right;\">\n",
       "      <th></th>\n",
       "      <th>word</th>\n",
       "      <th>category</th>\n",
       "    </tr>\n",
       "  </thead>\n",
       "  <tbody>\n",
       "    <tr>\n",
       "      <th>0</th>\n",
       "      <td>reporter</td>\n",
       "      <td>N</td>\n",
       "    </tr>\n",
       "    <tr>\n",
       "      <th>1</th>\n",
       "      <td>wombat</td>\n",
       "      <td>N</td>\n",
       "    </tr>\n",
       "    <tr>\n",
       "      <th>2</th>\n",
       "      <td>lady</td>\n",
       "      <td>N</td>\n",
       "    </tr>\n",
       "    <tr>\n",
       "      <th>3</th>\n",
       "      <td>zookeeper</td>\n",
       "      <td>N</td>\n",
       "    </tr>\n",
       "    <tr>\n",
       "      <th>4</th>\n",
       "      <td>cat</td>\n",
       "      <td>N</td>\n",
       "    </tr>\n",
       "  </tbody>\n",
       "</table>\n",
       "</div>"
      ],
      "text/plain": [
       "        word category\n",
       "0   reporter        N\n",
       "1     wombat        N\n",
       "2       lady        N\n",
       "3  zookeeper        N\n",
       "4        cat        N"
      ]
     },
     "execution_count": 2,
     "metadata": {},
     "output_type": "execute_result"
    }
   ],
   "source": [
    "lexiconloc = './tinylexicon.txt'\n",
    "lexicon = pd.read_csv(lexiconloc, names=['word','category'])\n",
    "lexicon.head() # show a few lines of the lexicon dataframe so we know what we're working with"
   ]
  },
  {
   "cell_type": "markdown",
   "id": "amateur-tribe",
   "metadata": {},
   "source": [
    "Make a dictionary of the \"rewrite\" rules. These are our syntax grammar rules, such as those found in Module 6.3. Essentially, anything to the left of the → can be found as one of the \"key\"s in the dictionary, and how it can be expressed, what's on the right of the → can be found in a list on the right. Some kind of list or list-like structure is needed because multiple rules with the same starting point exist.\n",
    "\n",
    "_Note that there is a differentiation in this notebook between 'Nx' and 'N'. This is to disambiguate between the terminal N, which should be replaced with nouns from the lexicon, and an intermediate Noun-type-thing between the level of NP and terminal N._"
   ]
  },
  {
   "cell_type": "code",
   "execution_count": 3,
   "id": "smart-friend",
   "metadata": {},
   "outputs": [],
   "source": [
    "rewriterules = {\n",
    "    'S': [['NP','VP']],\n",
    "    'NP': [['Det','Nx']],\n",
    "    'Nx': [['Adj','Nx'], ['N']],\n",
    "    'VP': [['V0'], ['V1','NP'], ['V2','NP','NP'], ['VS','S'],['Adv','VP'],['VP','Adv']],\n",
    "}"
   ]
  },
  {
   "cell_type": "markdown",
   "id": "extensive-combine",
   "metadata": {},
   "source": [
    "Now add the lexicon to the rewrite rules dictionary."
   ]
  },
  {
   "cell_type": "code",
   "execution_count": 4,
   "id": "functioning-nurse",
   "metadata": {},
   "outputs": [
    {
     "data": {
      "text/plain": [
       "{'S': [['NP', 'VP']],\n",
       " 'NP': [['Det', 'Nx']],\n",
       " 'Nx': [['Adj', 'Nx'], ['N']],\n",
       " 'VP': [['V0'],\n",
       "  ['V1', 'NP'],\n",
       "  ['V2', 'NP', 'NP'],\n",
       "  ['VS', 'S'],\n",
       "  ['Adv', 'VP'],\n",
       "  ['VP', 'Adv']],\n",
       " 'N': ['reporter', 'wombat', 'lady', 'zookeeper', 'cat'],\n",
       " 'Adj': ['mean', 'angry', 'hungry'],\n",
       " 'Det': ['a', 'the', 'that', 'my', 'this'],\n",
       " 'V0': ['slept', 'arrived', 'ran'],\n",
       " 'V2': ['gave', 'showed'],\n",
       " 'VS': ['said', 'thought'],\n",
       " 'Adv': ['angrily', 'already', 'yesterday'],\n",
       " 'V1': ['hit', 'hugged', 'bit', 'bathed']}"
      ]
     },
     "execution_count": 4,
     "metadata": {},
     "output_type": "execute_result"
    }
   ],
   "source": [
    "for p in lexicon.category.unique():\n",
    "    rewriterules[p] = list(lexicon.word[lexicon.category==p].unique())\n",
    "\n",
    "rewriterules"
   ]
  },
  {
   "cell_type": "markdown",
   "id": "sharing-security",
   "metadata": {},
   "source": [
    "Define a (recursive!!) rewrite function that expands any constituent by randomly selecting from the rewrite rules and lexical entries."
   ]
  },
  {
   "cell_type": "code",
   "execution_count": 5,
   "id": "biological-ending",
   "metadata": {},
   "outputs": [],
   "source": [
    "def rewrite(x, verbose=False):\n",
    "    y = random.choice(rewriterules[x])\n",
    "    if verbose:\n",
    "        print(y)\n",
    "    if type(y) == str:\n",
    "        return y\n",
    "    else:\n",
    "        return ' '.join([rewrite(z) for z in y])"
   ]
  },
  {
   "cell_type": "markdown",
   "id": "brief-invention",
   "metadata": {},
   "source": [
    "And finally, let's see a few examples!"
   ]
  },
  {
   "cell_type": "code",
   "execution_count": 6,
   "id": "corresponding-powder",
   "metadata": {},
   "outputs": [
    {
     "name": "stdout",
     "output_type": "stream",
     "text": [
      "this hungry mean wombat\n",
      "the wombat\n",
      "the mean zookeeper\n",
      "the angry reporter\n",
      "this lady\n",
      "that hungry lady\n",
      "a lady\n",
      "a lady\n",
      "the angry cat\n",
      "the mean hungry lady\n"
     ]
    }
   ],
   "source": [
    "for i in range(10):\n",
    "    print(rewrite('NP'))"
   ]
  },
  {
   "cell_type": "code",
   "execution_count": 7,
   "id": "dominant-mexico",
   "metadata": {},
   "outputs": [
    {
     "name": "stdout",
     "output_type": "stream",
     "text": [
      "the zookeeper thought this zookeeper slept\n",
      "a reporter showed a angry hungry angry hungry wombat this mean cat\n",
      "that mean hungry zookeeper hugged this hungry angry reporter\n",
      "my zookeeper showed my zookeeper the lady\n",
      "this hungry wombat already slept\n",
      "this hungry zookeeper said my zookeeper arrived\n",
      "my wombat arrived\n",
      "that angry zookeeper arrived\n",
      "that lady showed my lady that angry angry zookeeper\n",
      "a hungry reporter bathed my reporter\n"
     ]
    }
   ],
   "source": [
    "for i in range(10):\n",
    "    print(rewrite('S'))"
   ]
  },
  {
   "cell_type": "markdown",
   "id": "studied-empire",
   "metadata": {},
   "source": [
    "Some thoughts on additions or expansions\n",
    "- Are all words equally likely to come up? How might you change the code or structures so that some words are selected more frequently than others?\n",
    "- Are some nouns more likely to be associated with some verbs? How might you change the code or structures so that some words are selected more frequently based on the other words?\n",
    "- How might you add PPs?\n",
    "- Is the recursive rewrite function realistic in that it processes from left-to-right? How else might you encode it?"
   ]
  }
 ],
 "metadata": {
  "kernelspec": {
   "display_name": "Python 3",
   "language": "python",
   "name": "python3"
  },
  "language_info": {
   "codemirror_mode": {
    "name": "ipython",
    "version": 3
   },
   "file_extension": ".py",
   "mimetype": "text/x-python",
   "name": "python",
   "nbconvert_exporter": "python",
   "pygments_lexer": "ipython3",
   "version": "3.9.1"
  },
  "toc-autonumbering": false,
  "toc-showcode": false
 },
 "nbformat": 4,
 "nbformat_minor": 5
}
